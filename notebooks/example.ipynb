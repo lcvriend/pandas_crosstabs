{
 "cells": [
  {
   "cell_type": "markdown",
   "metadata": {},
   "source": [
    "# PANDAS_CROSSTABS\n",
    "---\n",
    "**Example notebook**"
   ]
  },
  {
   "cell_type": "code",
   "execution_count": null,
   "metadata": {},
   "outputs": [],
   "source": [
    "%cd .."
   ]
  },
  {
   "cell_type": "code",
   "execution_count": null,
   "metadata": {},
   "outputs": [],
   "source": [
    "import pandas as pd\n",
    "from pandas_crosstabs import FancyTable, Style, crosstab, aggregations, percentages\n",
    "\n",
    "path = 'test_data/enrollment_data.pkl'\n",
    "df = pd.read_pickle(path)\n",
    "df['ACADEMIC_YEAR'] = df['ACADEMIC_YEAR'].astype(str)"
   ]
  },
  {
   "cell_type": "markdown",
   "metadata": {},
   "source": [
    "## Fancy tables"
   ]
  },
  {
   "cell_type": "code",
   "execution_count": null,
   "metadata": {},
   "outputs": [],
   "source": [
    "FancyTable(df, max_rows=8)"
   ]
  },
  {
   "cell_type": "markdown",
   "metadata": {},
   "source": [
    "### Available styles"
   ]
  },
  {
   "cell_type": "code",
   "execution_count": null,
   "metadata": {},
   "outputs": [],
   "source": [
    "Style().AVAILABLE_STYLES"
   ]
  },
  {
   "cell_type": "markdown",
   "metadata": {},
   "source": [
    "## Crosstabs"
   ]
  },
  {
   "cell_type": "code",
   "execution_count": null,
   "metadata": {},
   "outputs": [],
   "source": [
    "query = \"ENROLLMENT_TYPE in ['matching', 'draw'] & ORIGIN in ['NLD', 'EER']\"\n",
    "ct = crosstab(df.query(query), ['DEPARTMENT', 'ORIGIN'], ['ENROLLMENT_TYPE', 'STATUS'], totals=True)\n",
    "FancyTable(ct, style='chaplin')"
   ]
  },
  {
   "cell_type": "markdown",
   "metadata": {},
   "source": [
    "## Aggregations"
   ]
  },
  {
   "cell_type": "code",
   "execution_count": null,
   "metadata": {},
   "outputs": [],
   "source": [
    "ct = aggregations(ct, 1, aggs='mean', roundings=1)\n",
    "FancyTable(ct, style='minimal')"
   ]
  },
  {
   "cell_type": "markdown",
   "metadata": {},
   "source": [
    "## Percentages "
   ]
  },
  {
   "cell_type": "code",
   "execution_count": null,
   "metadata": {},
   "outputs": [],
   "source": [
    "ct = percentages(ct, axis=['grand'], labels_rel=['%'], level_name='VALUES')\n",
    "FancyTable(ct, style='dataframe-plus')"
   ]
  }
 ],
 "metadata": {
  "kernelspec": {
   "display_name": "pandas-glit",
   "language": "python",
   "name": "pandas-glit"
  },
  "language_info": {
   "codemirror_mode": {
    "name": "ipython",
    "version": 3
   },
   "file_extension": ".py",
   "mimetype": "text/x-python",
   "name": "python",
   "nbconvert_exporter": "python",
   "pygments_lexer": "ipython3",
   "version": "3.7.4"
  }
 },
 "nbformat": 4,
 "nbformat_minor": 4
}
